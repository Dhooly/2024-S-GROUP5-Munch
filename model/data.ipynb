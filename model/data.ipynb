{
 "cells": [
  {
   "cell_type": "code",
   "execution_count": 11,
   "metadata": {},
   "outputs": [],
   "source": [
    "import pandas as pd\n",
    "import numpy as np\n",
    "from pathlib import Path\n",
    "from scipy import sparse\n",
    "from scipy.sparse import csr_matrix\n",
    "from implicit.datasets.lastfm import get_lastfm\n",
    "from implicit.nearest_neighbours import bm25_weight\n",
    "from implicit.als import AlternatingLeastSquares\n",
    "from IPython.core.interactiveshell import InteractiveShell\n",
    "from typing import List\n",
    "import time\n",
    "\n",
    "InteractiveShell.ast_node_interactivity = 'all'"
   ]
  },
  {
   "cell_type": "code",
   "execution_count": 12,
   "metadata": {},
   "outputs": [],
   "source": [
    "class DataLoader:\n",
    "    def __init__(self, userData:Path , restaurantData: Path) -> None:\n",
    "        self.userData = userData\n",
    "        self.restaurantData = restaurantData\n",
    "\n",
    "        #for user data \n",
    "        df = pd.read_csv(self.userData, sep=',')\n",
    "\n",
    "        self.userDataDF = df\n",
    "\n",
    "        #for restaurant data\n",
    "        df = pd.read_csv(self.restaurantData, sep= ',')\n",
    "        self.restaurantDF = df\n",
    "\n",
    "    def load_user_data(self) -> csr_matrix:\n",
    "        df = self.userDataDF\n",
    "\n",
    "        df = df.set_index(['userID', 'restaurantID'])\n",
    "        coo = sparse.coo_matrix(\n",
    "            (\n",
    "                df[\"rating\"].astype(float),\n",
    "                ( \n",
    "                    df.index.get_level_values(0), \n",
    "                   \tdf.index.get_level_values(1)\n",
    "                ),\n",
    "            )\n",
    "        )\n",
    "        coo = bm25_weight(coo, K1=1000, B=0.75) \n",
    "        return coo.tocsr()\n",
    "\n",
    "    def get_restaurant(self, rest_id: int) -> str:\n",
    "        return self.restaurantDF.iloc[rest_id]['name']\n",
    "\n",
    "    def load_restaurant_data(self) -> None:\n",
    "        df = pd.read_csv(self.restaurantData, sep=',')\n",
    "        df = df.set_index('id')\n",
    "        \n",
    "        df['score'] = df['score'].fillna(np.random.uniform(0, 10))\n",
    "        df['ratings'] = df['ratings'].fillna(np.random.randint(1, 100))\n",
    "        df['price_range'] = df['price_range'].fillna(np.random.randint(1,2) * \"$\")\n",
    "\n",
    "        df['zip_code'] = df['zip_code'].str.split('-', n=1, expand=True)[0]\n",
    "        self.restaurantDF = df\n",
    "        return \n",
    "    \n",
    "    def get_user_data(self, userID: int) -> pd.DataFrame:\n",
    "        df = self.userDataDF\n",
    "\n",
    "        return df.loc[df['userID'] == userID]\n",
    "\n"
   ]
  },
  {
   "cell_type": "code",
   "execution_count": 13,
   "metadata": {},
   "outputs": [],
   "source": [
    "class Model:\n",
    "    def __init__(self, user_items: csr_matrix, restaurant_data: pd.DataFrame) -> None:\n",
    "      self.model= AlternatingLeastSquares(factors = 50, iterations=15, regularization=0.01)\n",
    "      self.user_items = user_items\n",
    "      self.recommend_data = restaurant_data\n",
    "      \n",
    "    \n",
    "    def fitModel(self) -> None:\n",
    "      start = time.time()\n",
    "      self.model.fit(self.user_items)\n",
    "\n",
    "      print(f\"Finished training the model at {time.time() - start}\")\n",
    "    \n",
    "    def recommend_items(self, userID: int, n: int = 10):\n",
    "      recommendations, scores = self.model.recommend(userID, self.user_items[n], N=n, recalculate_user=True)\n",
    "\n",
    "      return recommendations, scores\n",
    "    \n",
    "    def similar_items(self, restaurant_id): \n",
    "      id, scores = self.model.similar_items(restaurant_id)\n",
    "\n",
    "      return id, scores"
   ]
  },
  {
   "cell_type": "code",
   "execution_count": 14,
   "metadata": {},
   "outputs": [],
   "source": [
    "loader = DataLoader(Path('user-data.csv'), Path('restaurants.csv'))\n",
    "user_data = loader.load_user_data()\n",
    "resturant_data = loader.load_restaurant_data()\n"
   ]
  },
  {
   "cell_type": "code",
   "execution_count": 15,
   "metadata": {},
   "outputs": [
    {
     "name": "stderr",
     "output_type": "stream",
     "text": [
      "  0%|          | 0/15 [00:00<?, ?it/s]"
     ]
    },
    {
     "name": "stderr",
     "output_type": "stream",
     "text": [
      "100%|██████████| 15/15 [00:13<00:00,  1.08it/s]"
     ]
    },
    {
     "name": "stdout",
     "output_type": "stream",
     "text": [
      "Finished training the model at 13.950199842453003\n"
     ]
    },
    {
     "name": "stderr",
     "output_type": "stream",
     "text": [
      "\n"
     ]
    }
   ],
   "source": [
    "#REGULAR \n",
    "model = Model(user_data, resturant_data)\n",
    "model.fitModel()"
   ]
  },
  {
   "cell_type": "code",
   "execution_count": 34,
   "metadata": {},
   "outputs": [],
   "source": [
    "from itertools import zip_longest\n",
    "restaurants, scores = model.recommend_items(0, 50) \n",
    "results = [loader.get_restaurant(rest_id) for rest_id in restaurants]\n",
    "\n",
    "df = loader.userDataDF\n",
    "# results, scores\n",
    "orig_rest = [loader.get_restaurant(id) for id in df[df['userID'] == 10]['restaurantID']]\n",
    "items = zip_longest(orig_rest, results, scores, )\n",
    "df = pd.DataFrame(list(items), columns=[\"Original\", \"Results\", \"Scores\"])\n",
    "\n",
    "df\n"
   ]
  }
 ],
 "metadata": {
  "kernelspec": {
   "display_name": "Python 3",
   "language": "python",
   "name": "python3"
  },
  "language_info": {
   "codemirror_mode": {
    "name": "ipython",
    "version": 3
   },
   "file_extension": ".py",
   "mimetype": "text/x-python",
   "name": "python",
   "nbconvert_exporter": "python",
   "pygments_lexer": "ipython3",
   "version": "3.10.13"
  }
 },
 "nbformat": 4,
 "nbformat_minor": 2
}
